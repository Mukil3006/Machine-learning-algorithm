{
  "nbformat": 4,
  "nbformat_minor": 0,
  "metadata": {
    "colab": {
      "provenance": []
    },
    "kernelspec": {
      "name": "python3",
      "display_name": "Python 3"
    },
    "language_info": {
      "name": "python"
    }
  },
  "cells": [
    {
      "cell_type": "markdown",
      "source": [
        "##**Initialize the Network**"
      ],
      "metadata": {
        "id": "FQgjLlejwmM-"
      }
    },
    {
      "cell_type": "code",
      "source": [
        "from random import random\n",
        "\n",
        "\n",
        "def initialize_network(n_inputs, n_hidden, n_outputs):\n",
        "    return [\n",
        "        [{'weights': [random() for _ in range(n_inputs + 1)]} for _ in range(n_hidden)],  # Hidden layer\n",
        "        [{'weights': [random() for _ in range(n_hidden + 1)]} for _ in range(n_outputs)]  # Output layer\n",
        "    ]\n",
        "\n",
        "n_inputs = 2\n",
        "n_outputs = 2\n",
        "\n",
        "network = initialize_network(n_inputs, 2, n_outputs)\n",
        "print(\"Initialized Network:\")\n",
        "for layer in network:\n",
        "    print(layer)\n"
      ],
      "metadata": {
        "colab": {
          "base_uri": "https://localhost:8080/"
        },
        "id": "iptUZSmkw16d",
        "outputId": "99fb0e81-8736-4573-98a8-f4ca74494060"
      },
      "execution_count": 1,
      "outputs": [
        {
          "output_type": "stream",
          "name": "stdout",
          "text": [
            "Initialized Network:\n",
            "[{'weights': [0.012736841871449633, 0.09126049635771094, 0.025062792385984856]}, {'weights': [0.7277692429221766, 0.45897522487699594, 0.9436684268627807]}]\n",
            "[{'weights': [0.6423603915728154, 0.8599919071582384, 0.8323864283503064]}, {'weights': [0.5833089090725634, 0.5382117827019627, 0.36034839120374695]}]\n"
          ]
        }
      ]
    },
    {
      "cell_type": "markdown",
      "source": [
        "##**Activation and Transfer Functions**"
      ],
      "metadata": {
        "id": "0Z0Imd2cxHF2"
      }
    },
    {
      "cell_type": "code",
      "source": [
        "from math import exp\n",
        "\n",
        "def activate(weights_dict, inputs):\n",
        "    weights = weights_dict['weights']\n",
        "    return sum(w * i for w, i in zip(weights[:-1], inputs)) + weights[-1]\n",
        "\n",
        "def transfer(activation):\n",
        "    return 1.0 / (1.0 + exp(-activation))\n",
        "\n",
        "input_data = [1, 2]  # Example input\n",
        "weights_dict = {'weights': [0.5, 0.5, 0.5]}\n",
        "\n",
        "activation = activate(weights_dict, input_data)\n",
        "output = transfer(activation)\n",
        "\n",
        "print(f\"Activation: {activation}, Output: {output}\")\n",
        "\n"
      ],
      "metadata": {
        "colab": {
          "base_uri": "https://localhost:8080/"
        },
        "id": "DlxBzjYHxLHl",
        "outputId": "727f91ad-01bf-472c-b787-fd200bbc6a00"
      },
      "execution_count": 5,
      "outputs": [
        {
          "output_type": "stream",
          "name": "stdout",
          "text": [
            "Activation: 2.0, Output: 0.8807970779778823\n"
          ]
        }
      ]
    },
    {
      "cell_type": "markdown",
      "source": [
        "##**Forward Propagation**"
      ],
      "metadata": {
        "id": "QubKD3oayM_t"
      }
    },
    {
      "cell_type": "code",
      "source": [
        "from random import random\n",
        "\n",
        "def initialize_network(n_inputs, n_hidden, n_outputs):\n",
        "    return [\n",
        "        [{'weights': [random() for _ in range(n_inputs + 1)]} for _ in range(n_hidden)],  # Hidden layer\n",
        "        [{'weights': [random() for _ in range(n_hidden + 1)]} for _ in range(n_outputs)]  # Output layer\n",
        "    ]\n",
        "\n",
        "from math import exp\n",
        "\n",
        "def transfer(activation):\n",
        "    return 1.0 / (1.0 + exp(-activation))\n",
        "\n",
        "def activate(weights, inputs):\n",
        "    return sum(w * i for w, i in zip(weights[:-1], inputs)) + weights[-1]\n",
        "\n",
        "def forward_propagate(network, row):\n",
        "    inputs = row\n",
        "    for layer in network:\n",
        "        inputs = [transfer(activate(neuron['weights'], inputs)) for neuron in layer]\n",
        "        for i, neuron in enumerate(layer):\n",
        "            neuron['output'] = inputs[i]\n",
        "    return inputs\n",
        "\n",
        "network = initialize_network(2, 2, 2)\n",
        "row = [2.7810836, 2.550537003]\n",
        "outputs = forward_propagate(network, row)\n",
        "print(f\"Forward propagation result: {outputs}\")"
      ],
      "metadata": {
        "colab": {
          "base_uri": "https://localhost:8080/"
        },
        "id": "hhcWA23SycYV",
        "outputId": "e1348697-663c-4d7b-c4ee-153d208d1adf"
      },
      "execution_count": 9,
      "outputs": [
        {
          "output_type": "stream",
          "name": "stdout",
          "text": [
            "Forward propagation result: [0.755575506128607, 0.7804813033999233]\n"
          ]
        }
      ]
    },
    {
      "cell_type": "markdown",
      "source": [
        "##**Backpropagation Error Calculation**"
      ],
      "metadata": {
        "id": "MRrE7FJCzCYl"
      }
    },
    {
      "cell_type": "code",
      "source": [
        "def transfer_derivative(output):\n",
        "    return output * (1.0 - output)\n",
        "\n",
        "def backward_propagate_error(network, expected):\n",
        "    for i in reversed(range(len(network))):\n",
        "        layer = network[i]\n",
        "        errors = []\n",
        "        if i != len(network) - 1:\n",
        "            for j in range(len(layer)):\n",
        "                errors.append(sum(neuron['weights'][j] * neuron['delta'] for neuron in network[i + 1]))\n",
        "        else:\n",
        "            errors = [neuron['output'] - expected[j] for j, neuron in enumerate(layer)]\n",
        "\n",
        "        for j, neuron in enumerate(layer):\n",
        "            neuron['delta'] = errors[j] * transfer_derivative(neuron['output'])\n",
        "\n",
        "expected = [1, 0]\n",
        "backward_propagate_error(network, expected)\n",
        "print(\"After backpropagation (error & delta values):\")\n",
        "for layer in network:\n",
        "    for neuron in layer:\n",
        "        print(f\"Neuron: {neuron}, Delta: {neuron.get('delta', 'No delta yet')}\")\n"
      ],
      "metadata": {
        "colab": {
          "base_uri": "https://localhost:8080/"
        },
        "id": "ty51pdFyzP98",
        "outputId": "1217e3d3-e4c9-46f6-9e4d-1e68352bfd16"
      },
      "execution_count": 10,
      "outputs": [
        {
          "output_type": "stream",
          "name": "stdout",
          "text": [
            "After backpropagation (error & delta values):\n",
            "Neuron: {'weights': [0.228175481687394, 0.5043327347083468, 0.7301559139100807], 'output': 0.9340756960289436, 'delta': 0.0030181470224350535}, Delta: 0.0030181470224350535\n",
            "Neuron: {'weights': [0.9849241128783813, 0.7332658203438238, 0.7418651685790072], 'output': 0.9952801304490628, 'delta': 0.00045063514994883813}, Delta: 0.00045063514994883813\n",
            "Neuron: {'weights': [0.06341822444877143, 0.4287093045481438, 0.6426500012525163], 'output': 0.755575506128607, 'delta': -0.04514059922363888}, Delta: -0.04514059922363888\n",
            "Neuron: {'weights': [0.38794410104675003, 0.8621082358582924, 0.04806502435195148], 'output': 0.7804813033999233, 'delta': 0.13372004781187485}, Delta: 0.13372004781187485\n"
          ]
        }
      ]
    },
    {
      "cell_type": "markdown",
      "source": [
        "##**Update Weights**"
      ],
      "metadata": {
        "id": "_NT1xJLnze90"
      }
    },
    {
      "cell_type": "code",
      "source": [
        "def update_weights(network, row, l_rate):\n",
        "    for i, layer in enumerate(network):\n",
        "        inputs = row[:-1] if i == 0 else [neuron['output'] for neuron in network[i - 1]]\n",
        "        for neuron in layer:\n",
        "            for j in range(len(inputs)):\n",
        "                neuron['weights'][j] -= l_rate * neuron['delta'] * inputs[j]\n",
        "            neuron['weights'][-1] -= l_rate * neuron['delta']\n",
        "\n",
        "learning_rate = 0.5\n",
        "update_weights(network, row, learning_rate)\n",
        "print(\"Updated weights after one training step:\")\n",
        "for layer in network:\n",
        "    for neuron in layer:\n",
        "        print(f\"Neuron weights: {neuron['weights']}\")\n"
      ],
      "metadata": {
        "colab": {
          "base_uri": "https://localhost:8080/"
        },
        "id": "LyDv7knYzn40",
        "outputId": "8489f983-0e95-4934-a32a-093e510a899d"
      },
      "execution_count": 11,
      "outputs": [
        {
          "output_type": "stream",
          "name": "stdout",
          "text": [
            "Updated weights after one training step:\n",
            "Neuron weights: [0.2239786220941525, 0.5043327347083468, 0.7286468403988632]\n",
            "Neuron weights: [0.9842974858658282, 0.7332658203438238, 0.7416398510040327]\n",
            "Neuron weights: [0.08450059276826347, 0.4511730752900699, 0.6652203008643357]\n",
            "Neuron weights: [0.32549177768029974, 0.7955637825433636, -0.018794999553985947]\n"
          ]
        }
      ]
    },
    {
      "cell_type": "markdown",
      "source": [
        "##**Update Weights**"
      ],
      "metadata": {
        "id": "A8X11T95z6lE"
      }
    },
    {
      "cell_type": "code",
      "source": [
        "def update_weights(network, row, l_rate):\n",
        "    for i, layer in enumerate(network):\n",
        "        inputs = row[:-1] if i == 0 else [neuron['output'] for neuron in network[i - 1]]\n",
        "        for neuron in layer:\n",
        "            for j in range(len(inputs)):\n",
        "                neuron['weights'][j] -= l_rate * neuron['delta'] * inputs[j]\n",
        "            neuron['weights'][-1] -= l_rate * neuron['delta']\n",
        "\n",
        "\n",
        "learning_rate = 0.5\n",
        "update_weights(network, row, learning_rate)\n",
        "print(\"Updated weights after one training step:\")\n",
        "for layer in network:\n",
        "    for neuron in layer:\n",
        "        print(f\"Neuron weights: {neuron['weights']}\")\n"
      ],
      "metadata": {
        "colab": {
          "base_uri": "https://localhost:8080/"
        },
        "id": "od7GbHXkz-uM",
        "outputId": "7cbfc97a-7ef3-47f0-ae09-b01a86838830"
      },
      "execution_count": 12,
      "outputs": [
        {
          "output_type": "stream",
          "name": "stdout",
          "text": [
            "Updated weights after one training step:\n",
            "Neuron weights: [0.21978176250091103, 0.5043327347083468, 0.7271377668876456]\n",
            "Neuron weights: [0.9836708588532751, 0.7332658203438238, 0.7414145334290583]\n",
            "Neuron weights: [0.1055829610877555, 0.47363684603199596, 0.6877906004761551]\n",
            "Neuron weights: [0.26303945431384945, 0.7290193292284347, -0.08565502345992337]\n"
          ]
        }
      ]
    },
    {
      "cell_type": "markdown",
      "source": [
        "##**Training the Network**"
      ],
      "metadata": {
        "id": "Q8O05xRL0HZV"
      }
    },
    {
      "cell_type": "code",
      "source": [
        "from math import exp\n",
        "from random import seed, random  # Import the 'seed' and 'random' functions\n",
        "\n",
        "# Initialize a network\n",
        "def initialize_network(n_inputs, n_hidden, n_outputs):\n",
        "    return [\n",
        "        [{'weights': [random() for _ in range(n_inputs + 1)]} for _ in range(n_hidden)],  # Hidden layer\n",
        "        [{'weights': [random() for _ in range(n_hidden + 1)]} for _ in range(n_outputs)]  # Output layer\n",
        "    ]\n",
        "\n",
        "# Calculate neuron activation for an input\n",
        "def activate(weights, inputs):\n",
        "    return sum(w * i for w, i in zip(weights[:-1], inputs)) + weights[-1]\n",
        "\n",
        "# Transfer neuron activation using the sigmoid function\n",
        "def transfer(activation):\n",
        "    return 1.0 / (1.0 + exp(-activation))\n",
        "\n",
        "# Forward propagate input to a network output\n",
        "def forward_propagate(network, row):\n",
        "    inputs = row\n",
        "    for layer in network:\n",
        "        inputs = [transfer(activate(neuron['weights'], inputs)) for neuron in layer]\n",
        "        for i, neuron in enumerate(layer):\n",
        "            neuron['output'] = inputs[i]\n",
        "    return inputs\n",
        "\n",
        "# Calculate the derivative of a neuron output (sigmoid derivative)\n",
        "def transfer_derivative(output):\n",
        "    return output * (1.0 - output)\n",
        "\n",
        "# Backpropagate error and store in neurons\n",
        "def backward_propagate_error(network, expected):\n",
        "    for i in reversed(range(len(network))):\n",
        "        layer = network[i]\n",
        "        errors = []\n",
        "        if i != len(network) - 1:  # Hidden layer\n",
        "            for j in range(len(layer)):\n",
        "                errors.append(sum(neuron['weights'][j] * neuron['delta'] for neuron in network[i + 1]))\n",
        "        else:  # Output layer\n",
        "            errors = [neuron['output'] - expected[j] for j, neuron in enumerate(layer)]\n",
        "\n",
        "        # Calculate the delta for each neuron\n",
        "        for j, neuron in enumerate(layer):\n",
        "            neuron['delta'] = errors[j] * transfer_derivative(neuron['output'])\n",
        "\n",
        "# Update network weights with error\n",
        "def update_weights(network, row, l_rate):\n",
        "    for i, layer in enumerate(network):\n",
        "        inputs = row[:-1] if i == 0 else [neuron['output'] for neuron in network[i - 1]]\n",
        "        for neuron in layer:\n",
        "            for j in range(len(inputs)):\n",
        "                neuron['weights'][j] -= l_rate * neuron['delta'] * inputs[j]\n",
        "            neuron['weights'][-1] -= l_rate * neuron['delta']\n",
        "\n",
        "# Train a network for a fixed number of epochs\n",
        "def train_network(network, train, l_rate, n_epoch, n_outputs):\n",
        "    for epoch in range(n_epoch):\n",
        "        sum_error = 0\n",
        "        for row in train:\n",
        "            outputs = forward_propagate(network, row)\n",
        "            expected = [0] * n_outputs\n",
        "            expected[row[-1]] = 1  # Set the expected output (one-hot encoding)\n",
        "            sum_error += sum((expected[i] - outputs[i]) ** 2 for i in range(len(expected)))  # Calculate error\n",
        "            backward_propagate_error(network, expected)\n",
        "            update_weights(network, row, l_rate)\n",
        "        print(f'>epoch={epoch+1}, lrate={l_rate:.3f}, error={sum_error:.3f}')\n",
        "\n",
        "# Example dataset and training\n",
        "seed(1)  # Set the random seed for reproducibility\n",
        "dataset = [\n",
        "    [2.7810836, 2.550537003, 0],\n",
        "    [1.465489372, 2.362125076, 0],\n",
        "    [3.396561688, 4.400293529, 0],\n",
        "    [1.38807019, 1.850220317, 0],\n",
        "    [3.06407232, 3.005305973, 0],\n",
        "    [7.627531214, 2.759262235, 1],\n",
        "    [5.332441248, 2.088626775, 1],\n",
        "    [6.922596716, 1.77106367, 1],\n",
        "    [8.675418651, -0.242068655, 1],\n",
        "    [7.673756466, 3.508563011, 1]\n",
        "]\n",
        "\n",
        "n_inputs = len(dataset[0]) - 1  # Number of input features\n",
        "n_outputs = len(set(row[-1] for row in dataset))  # Number of unique output classes\n",
        "\n",
        "# Initialize the network with 2 hidden neurons\n",
        "network = initialize_network(n_inputs, 2, n_outputs)\n",
        "\n",
        "# Train the network\n",
        "train_network(network, dataset, 0.5, 20, n_outputs)\n",
        "\n",
        "# Print the final network weights\n",
        "for layer in network:\n",
        "    print(layer)\n",
        "\n"
      ],
      "metadata": {
        "colab": {
          "base_uri": "https://localhost:8080/"
        },
        "id": "Ddwqs_Gb0Luk",
        "outputId": "167a52d7-0be6-49d5-9c32-12401b5c794d"
      },
      "execution_count": 14,
      "outputs": [
        {
          "output_type": "stream",
          "name": "stdout",
          "text": [
            ">epoch=1, lrate=0.500, error=6.350\n",
            ">epoch=2, lrate=0.500, error=5.531\n",
            ">epoch=3, lrate=0.500, error=5.221\n",
            ">epoch=4, lrate=0.500, error=4.951\n",
            ">epoch=5, lrate=0.500, error=4.519\n",
            ">epoch=6, lrate=0.500, error=4.173\n",
            ">epoch=7, lrate=0.500, error=3.835\n",
            ">epoch=8, lrate=0.500, error=3.506\n",
            ">epoch=9, lrate=0.500, error=3.192\n",
            ">epoch=10, lrate=0.500, error=2.898\n",
            ">epoch=11, lrate=0.500, error=2.626\n",
            ">epoch=12, lrate=0.500, error=2.377\n",
            ">epoch=13, lrate=0.500, error=2.153\n",
            ">epoch=14, lrate=0.500, error=1.953\n",
            ">epoch=15, lrate=0.500, error=1.774\n",
            ">epoch=16, lrate=0.500, error=1.614\n",
            ">epoch=17, lrate=0.500, error=1.472\n",
            ">epoch=18, lrate=0.500, error=1.346\n",
            ">epoch=19, lrate=0.500, error=1.233\n",
            ">epoch=20, lrate=0.500, error=1.132\n",
            "[{'weights': [-1.4688375095432327, 1.850887325439514, 1.0858178629550297], 'output': 0.02998030560442621, 'delta': 0.005954660416232368}, {'weights': [0.37711098142462174, -0.06259098945529955, 0.2765123702642715], 'output': 0.9456229000211321, 'delta': -0.0026279652850863906}]\n",
            "[{'weights': [2.515394649397849, -0.3391927502445991, -0.9671565426390271], 'output': 0.23648794202357587, 'delta': 0.04270059278364587}, {'weights': [-2.5584149848484263, 1.0036422106209206, 0.42383086467582687], 'output': 0.7790535202438367, 'delta': -0.03803132596437354}]\n"
          ]
        }
      ]
    }
  ]
}