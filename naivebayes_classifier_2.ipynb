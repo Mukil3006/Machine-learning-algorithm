{
  "nbformat": 4,
  "nbformat_minor": 0,
  "metadata": {
    "colab": {
      "provenance": []
    },
    "kernelspec": {
      "name": "python3",
      "display_name": "Python 3"
    },
    "language_info": {
      "name": "python"
    }
  },
  "cells": [
    {
      "cell_type": "markdown",
      "source": [
        "##**Import Required Libraries**"
      ],
      "metadata": {
        "id": "yUlNQniO5bZM"
      }
    },
    {
      "cell_type": "code",
      "execution_count": 1,
      "metadata": {
        "id": "VEoaGXa75Ryr"
      },
      "outputs": [],
      "source": [
        "from sklearn.datasets import fetch_20newsgroups\n",
        "from sklearn.feature_extraction.text import CountVectorizer, TfidfTransformer\n",
        "from sklearn.naive_bayes import MultinomialNB\n",
        "from sklearn.metrics import accuracy_score, classification_report, confusion_matrix"
      ]
    },
    {
      "cell_type": "markdown",
      "source": [
        "##**Fetch Data and Define Categories**"
      ],
      "metadata": {
        "id": "D46raAI-5ldL"
      }
    },
    {
      "cell_type": "code",
      "source": [
        "categories = ['alt.atheism', 'soc.religion.christian', 'comp.graphics', 'sci.med']\n",
        "train_data = fetch_20newsgroups(subset='train', categories=categories)\n",
        "test_data = fetch_20newsgroups(subset='test', categories=categories)"
      ],
      "metadata": {
        "id": "c06ljfnb5qJa"
      },
      "execution_count": 2,
      "outputs": []
    },
    {
      "cell_type": "markdown",
      "source": [
        "##**Vectorization and TF-IDF Transformation**"
      ],
      "metadata": {
        "id": "Gl9BxjDU5wwj"
      }
    },
    {
      "cell_type": "code",
      "source": [
        "count_vect = CountVectorizer()\n",
        "X_train_tfidf = TfidfTransformer().fit_transform(count_vect.fit_transform(train_data.data))"
      ],
      "metadata": {
        "id": "G11uPFv_5weT"
      },
      "execution_count": 3,
      "outputs": []
    },
    {
      "cell_type": "markdown",
      "source": [
        "##**Train the Naive Bayes Model**"
      ],
      "metadata": {
        "id": "23_KqzjM55qa"
      }
    },
    {
      "cell_type": "code",
      "source": [
        "model = MultinomialNB().fit(X_train_tfidf, train_data.target)"
      ],
      "metadata": {
        "id": "t4aTSDOf59_r"
      },
      "execution_count": 4,
      "outputs": []
    },
    {
      "cell_type": "markdown",
      "source": [
        "##**Predict on Test Data**"
      ],
      "metadata": {
        "id": "uawbEovM6NXG"
      }
    },
    {
      "cell_type": "code",
      "source": [
        "X_test_tfidf = TfidfTransformer().fit_transform(count_vect.transform(test_data.data))\n",
        "predicted = model.predict(X_test_tfidf)"
      ],
      "metadata": {
        "id": "opB8smsU6Q_7"
      },
      "execution_count": 5,
      "outputs": []
    },
    {
      "cell_type": "markdown",
      "source": [
        "##**Evaluate the Model**"
      ],
      "metadata": {
        "id": "UZtii7Wa6WSy"
      }
    },
    {
      "cell_type": "code",
      "source": [
        "print(\"Accuracy:\", accuracy_score(test_data.target, predicted))\n",
        "print(\"\\nClassification Report:\\n\", classification_report(test_data.target, predicted, target_names=test_data.target_names))\n",
        "print(\"\\nConfusion Matrix:\\n\", confusion_matrix(test_data.target, predicted))"
      ],
      "metadata": {
        "colab": {
          "base_uri": "https://localhost:8080/"
        },
        "id": "zqBTmJTT6Z-r",
        "outputId": "18def740-e485-4500-8a59-beee796324b7"
      },
      "execution_count": 6,
      "outputs": [
        {
          "output_type": "stream",
          "name": "stdout",
          "text": [
            "Accuracy: 0.8275632490013316\n",
            "\n",
            "Classification Report:\n",
            "                         precision    recall  f1-score   support\n",
            "\n",
            "           alt.atheism       0.96      0.58      0.73       319\n",
            "         comp.graphics       0.96      0.89      0.92       389\n",
            "               sci.med       0.97      0.81      0.88       396\n",
            "soc.religion.christian       0.63      0.99      0.77       398\n",
            "\n",
            "              accuracy                           0.83      1502\n",
            "             macro avg       0.88      0.82      0.83      1502\n",
            "          weighted avg       0.88      0.83      0.83      1502\n",
            "\n",
            "\n",
            "Confusion Matrix:\n",
            " [[186   2   6 125]\n",
            " [  2 345   3  39]\n",
            " [  3   9 319  65]\n",
            " [  2   2   1 393]]\n"
          ]
        }
      ]
    }
  ]
}